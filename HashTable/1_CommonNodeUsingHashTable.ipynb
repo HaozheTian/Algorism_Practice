{
 "cells": [
  {
   "cell_type": "markdown",
   "id": "bacterial-council",
   "metadata": {},
   "source": [
    "# Find the common node of two listnodes\n",
    "See problem [here](https://leetcode-cn.com/problems/liang-ge-lian-biao-de-di-yi-ge-gong-gong-jie-dian-lcof/)\n",
    "\n",
    "The key here is to use hash table to avoid double loops."
   ]
  },
  {
   "cell_type": "code",
   "execution_count": null,
   "id": "auburn-angle",
   "metadata": {},
   "outputs": [],
   "source": [
    "class Solution:\n",
    "    def getIntersectionNode(self, headA: ListNode, headB: ListNode) -> ListNode:\n",
    "        s = set()\n",
    "        p, q = headA, headB\n",
    "        while p:\n",
    "            s.add(p)\n",
    "            p = p.next\n",
    "        while q:\n",
    "            if q in s:\n",
    "                return q\n",
    "            q = q.next\n",
    "        return None"
   ]
  }
 ],
 "metadata": {
  "kernelspec": {
   "display_name": "Python 3",
   "language": "python",
   "name": "python3"
  },
  "language_info": {
   "codemirror_mode": {
    "name": "ipython",
    "version": 3
   },
   "file_extension": ".py",
   "mimetype": "text/x-python",
   "name": "python",
   "nbconvert_exporter": "python",
   "pygments_lexer": "ipython3",
   "version": "3.7.9"
  }
 },
 "nbformat": 4,
 "nbformat_minor": 5
}
