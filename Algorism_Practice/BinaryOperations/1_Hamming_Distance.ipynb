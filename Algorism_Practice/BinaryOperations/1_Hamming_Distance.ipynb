{
 "cells": [
  {
   "cell_type": "markdown",
   "id": "thirty-defendant",
   "metadata": {},
   "source": [
    "# Get Hamming Distance\n",
    "View Probelm [here](https://leetcode-cn.com/problems/hamming-distance/submissions/): "
   ]
  },
  {
   "cell_type": "code",
   "execution_count": 1,
   "id": "connected-admission",
   "metadata": {},
   "outputs": [],
   "source": [
    "def hammingDistance(self, x, y):\n",
    "    return bin(x ^ y).count('1')"
   ]
  },
  {
   "cell_type": "markdown",
   "id": "decimal-station",
   "metadata": {},
   "source": [
    "There are two operations here that are worth noticing:\n",
    "- Use ^ to represent nor\n",
    "- `.count` method for the `bin()` class"
   ]
  },
  {
   "cell_type": "code",
   "execution_count": 3,
   "id": "adaptive-uzbekistan",
   "metadata": {},
   "outputs": [
    {
     "name": "stdout",
     "output_type": "stream",
     "text": [
      "Help on built-in function bin in module builtins:\n",
      "\n",
      "bin(number, /)\n",
      "    Return the binary representation of an integer.\n",
      "    \n",
      "    >>> bin(2796202)\n",
      "    '0b1010101010101010101010'\n",
      "\n"
     ]
    }
   ],
   "source": [
    "help(bin)"
   ]
  },
  {
   "cell_type": "markdown",
   "id": "awful-andrew",
   "metadata": {},
   "source": [
    "From the help of `bin()`, we know that what it does is convert an integer into binary string, and the method, `.count`, is a method in string class"
   ]
  }
 ],
 "metadata": {
  "kernelspec": {
   "display_name": "Python 3",
   "language": "python",
   "name": "python3"
  },
  "language_info": {
   "codemirror_mode": {
    "name": "ipython",
    "version": 3
   },
   "file_extension": ".py",
   "mimetype": "text/x-python",
   "name": "python",
   "nbconvert_exporter": "python",
   "pygments_lexer": "ipython3",
   "version": "3.7.9"
  }
 },
 "nbformat": 4,
 "nbformat_minor": 5
}
