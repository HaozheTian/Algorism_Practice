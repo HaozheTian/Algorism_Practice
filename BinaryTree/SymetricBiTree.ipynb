{
 "cells": [
  {
   "cell_type": "markdown",
   "id": "postal-prototype",
   "metadata": {},
   "source": [
    "# Check Symmetric Tree\n",
    "View Problem here: https://leetcode-cn.com/problems/dui-cheng-de-er-cha-shu-lcof/"
   ]
  },
  {
   "cell_type": "code",
   "execution_count": 20,
   "id": "under-closing",
   "metadata": {},
   "outputs": [],
   "source": [
    "import PyBT\n",
    "from PyBT import TreeNode\n",
    "vals = [1,2,3,'#','#',4,'#','#',2,4,'#','#',3,'#','#']\n",
    "root = PyBT.genBT(vals)"
   ]
  },
  {
   "cell_type": "code",
   "execution_count": 21,
   "id": "hearing-missile",
   "metadata": {},
   "outputs": [],
   "source": [
    "def recur(L,R):\n",
    "    if (not L) and (not R):\n",
    "        return True\n",
    "    elif (not L) or (not R):\n",
    "        return False\n",
    "    elif L.val != R.val:\n",
    "        return False\n",
    "    else:\n",
    "        return recur(L.left,R.right) and recur(L.right,R.left)"
   ]
  },
  {
   "cell_type": "code",
   "execution_count": 22,
   "id": "selective-source",
   "metadata": {},
   "outputs": [
    {
     "data": {
      "text/plain": [
       "True"
      ]
     },
     "execution_count": 22,
     "metadata": {},
     "output_type": "execute_result"
    }
   ],
   "source": [
    "recur(root.left,root.right)"
   ]
  }
 ],
 "metadata": {
  "kernelspec": {
   "display_name": "Python 3",
   "language": "python",
   "name": "python3"
  },
  "language_info": {
   "codemirror_mode": {
    "name": "ipython",
    "version": 3
   },
   "file_extension": ".py",
   "mimetype": "text/x-python",
   "name": "python",
   "nbconvert_exporter": "python",
   "pygments_lexer": "ipython3",
   "version": "3.7.9"
  }
 },
 "nbformat": 4,
 "nbformat_minor": 5
}
