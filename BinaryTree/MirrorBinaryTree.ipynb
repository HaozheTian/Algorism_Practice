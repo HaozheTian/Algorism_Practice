{
 "cells": [
  {
   "cell_type": "markdown",
   "id": "sixth-editor",
   "metadata": {},
   "source": [
    "# Mirroring Binary Tree\n",
    "View problem here: https://leetcode-cn.com/problems/er-cha-shu-de-jing-xiang-lcof/"
   ]
  },
  {
   "cell_type": "code",
   "execution_count": 1,
   "id": "written-converter",
   "metadata": {},
   "outputs": [],
   "source": [
    "from PyBT import *"
   ]
  },
  {
   "cell_type": "code",
   "execution_count": 2,
   "id": "controlled-cheat",
   "metadata": {},
   "outputs": [],
   "source": [
    "def mirrorTree(root: TreeNode) -> TreeNode:\n",
    "        if not root: return\n",
    "        stack = [root]\n",
    "        while stack:\n",
    "            node = stack.pop()\n",
    "            if node.left: stack.append(node.left)\n",
    "            if node.right: stack.append(node.right)\n",
    "            node.left, node.right = node.right, node.left\n",
    "        return root"
   ]
  },
  {
   "cell_type": "code",
   "execution_count": 3,
   "id": "sonic-corruption",
   "metadata": {},
   "outputs": [
    {
     "name": "stdout",
     "output_type": "stream",
     "text": [
      "[4, 7, 9, '#', '#', 6, '#', '#', 2, 3, '#', '#', 1, '#', '#']\n"
     ]
    }
   ],
   "source": [
    "Vals = [4, 2, 1, '#', '#', 3, '#', '#', 7, 6, '#', '#', 9, '#', '#', ]\n",
    "root = genBT(Vals)\n",
    "ans = mirrorTree(root)\n",
    "print(printBT(ans))"
   ]
  }
 ],
 "metadata": {
  "kernelspec": {
   "display_name": "Python 3",
   "language": "python",
   "name": "python3"
  },
  "language_info": {
   "codemirror_mode": {
    "name": "ipython",
    "version": 3
   },
   "file_extension": ".py",
   "mimetype": "text/x-python",
   "name": "python",
   "nbconvert_exporter": "python",
   "pygments_lexer": "ipython3",
   "version": "3.7.9"
  }
 },
 "nbformat": 4,
 "nbformat_minor": 5
}
