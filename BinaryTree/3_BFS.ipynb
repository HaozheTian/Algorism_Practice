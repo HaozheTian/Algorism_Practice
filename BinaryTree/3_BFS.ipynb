{
 "cells": [
  {
   "attachments": {
    "image.png": {
     "image/png": "[encoded data removed]"
    }
   },
   "cell_type": "markdown",
   "id": "decimal-excellence",
   "metadata": {},
   "source": [
    "# BFS\n",
    "The gist is: print a binary tree from top to the bottom.\n",
    "\n",
    "Here is an example:\n",
    "\n",
    "![image.png](attachment:image.png)\n",
    "\n",
    "print：-> [3,9,20,15,7]"
   ]
  },
  {
   "cell_type": "code",
   "execution_count": 6,
   "id": "humanitarian-worst",
   "metadata": {},
   "outputs": [],
   "source": [
    "import collections\n",
    "\n",
    "def BFS(root):\n",
    "        if not root:\n",
    "            return []\n",
    "        quene = collections.deque()\n",
    "        ans = []\n",
    "        quene.append(root)\n",
    "        while quene:\n",
    "            temp = quene.popleft()\n",
    "            ans.append(temp.val)\n",
    "            if temp.left:\n",
    "                quene.append(temp.left)\n",
    "            if temp.right:\n",
    "                quene.append(temp.right)\n",
    "        return ans"
   ]
  },
  {
   "cell_type": "code",
   "execution_count": 8,
   "id": "narrative-affect",
   "metadata": {},
   "outputs": [
    {
     "name": "stdout",
     "output_type": "stream",
     "text": [
      "[4, 2, 7, 1, 3, 6, 9]\n"
     ]
    }
   ],
   "source": [
    "from PyBT import *\n",
    "\n",
    "Vals = [4, 2, 1, '#', '#', 3, '#', '#', 7, 6, '#', '#', 9, '#', '#', ]\n",
    "root = genBT(Vals)\n",
    "ans = BFS(root)\n",
    "print(ans)"
   ]
  }
 ],
 "metadata": {
  "kernelspec": {
   "display_name": "Python 3",
   "language": "python",
   "name": "python3"
  },
  "language_info": {
   "codemirror_mode": {
    "name": "ipython",
    "version": 3
   },
   "file_extension": ".py",
   "mimetype": "text/x-python",
   "name": "python",
   "nbconvert_exporter": "python",
   "pygments_lexer": "ipython3",
   "version": "3.7.9"
  }
 },
 "nbformat": 4,
 "nbformat_minor": 5
}
