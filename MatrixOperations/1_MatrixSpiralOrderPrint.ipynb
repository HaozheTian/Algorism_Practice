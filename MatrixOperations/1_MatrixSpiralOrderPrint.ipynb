{
 "cells": [
  {
   "cell_type": "markdown",
   "id": "hazardous-beverage",
   "metadata": {},
   "source": [
    "# Print Matrix in a Spiral Order\n",
    "View Problem here: https://leetcode-cn.com/problems/shun-shi-zhen-da-yin-ju-zhen-lcof/submissions/\n",
    "\n",
    "**Set up a counter to carry out four operations:**\n",
    "\n",
    "```\n",
    "While the matrix is not empty:{\n",
    "\n",
    "     if Counter == 0:\n",
    "     \n",
    "         print and remove the first row from left to right, then Counter += 1\n",
    "\n",
    "     if Counter == 1:\n",
    "         print and remove the last column from upside to downside, then Counter += 1\n",
    "\n",
    "     if Counter == 2: \n",
    "        print and remove the last row from right to left, then Counter += 1\n",
    "\n",
    "     if Counter == 3: \n",
    "        print and remove the first column from downside to upside, then Counter = 0\n",
    "}\n",
    "```"
   ]
  },
  {
   "cell_type": "code",
   "execution_count": 2,
   "id": "experimental-schedule",
   "metadata": {},
   "outputs": [],
   "source": [
    "def spiralOrder(matrix):\n",
    "    counter = 0\n",
    "    res = []\n",
    "    while matrix and matrix[0]:\n",
    "        if counter == 0:\n",
    "            res += matrix.pop(0)\n",
    "            counter += 1\n",
    "        elif counter == 1:\n",
    "            for i in range(len(matrix)):\n",
    "                res.append(matrix[i].pop(-1))\n",
    "            counter += 1\n",
    "        elif counter == 2:\n",
    "            res += matrix.pop(-1)[::-1]\n",
    "            counter += 1\n",
    "        elif counter == 3:\n",
    "            for i in range(len(matrix)):\n",
    "                res.append(matrix[len(matrix)-i-1].pop(0))\n",
    "            counter = 0\n",
    "    return(res)"
   ]
  },
  {
   "cell_type": "code",
   "execution_count": 8,
   "id": "standing-smell",
   "metadata": {},
   "outputs": [
    {
     "name": "stdout",
     "output_type": "stream",
     "text": [
      "The input matrix is:\n",
      "[1, 2, 3]\n",
      "[4, 5, 6]\n",
      "[7, 8, 9]\n",
      "\n",
      "\n",
      "It's spiral order is:  [1, 2, 3, 6, 9, 8, 7, 4, 5]\n"
     ]
    }
   ],
   "source": [
    "matrix = [[1,2,3],[4,5,6],[7,8,9]]\n",
    "print('The input matrix is:')\n",
    "for row in matrix:\n",
    "    print(row)\n",
    "print('\\n\\nIt\\'s spiral order is: ',spiralOrder(matrix))"
   ]
  }
 ],
 "metadata": {
  "kernelspec": {
   "display_name": "Python 3",
   "language": "python",
   "name": "python3"
  },
  "language_info": {
   "codemirror_mode": {
    "name": "ipython",
    "version": 3
   },
   "file_extension": ".py",
   "mimetype": "text/x-python",
   "name": "python",
   "nbconvert_exporter": "python",
   "pygments_lexer": "ipython3",
   "version": "3.7.9"
  }
 },
 "nbformat": 4,
 "nbformat_minor": 5
}
