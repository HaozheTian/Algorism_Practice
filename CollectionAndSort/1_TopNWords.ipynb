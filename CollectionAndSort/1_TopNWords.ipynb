{
 "cells": [
  {
   "cell_type": "markdown",
   "id": "reliable-morgan",
   "metadata": {},
   "source": [
    "# Top n words\n",
    "Inputs a list of words and a number n, return the n most frequent words in the input list\n",
    "View probelm [here](https://leetcode-cn.com/problems/top-k-frequent-words/)."
   ]
  },
  {
   "cell_type": "code",
   "execution_count": 3,
   "id": "located-bullet",
   "metadata": {},
   "outputs": [],
   "source": [
    "InputWords = [\"i\", \"love\", \"leetcode\", \"i\", \"love\", \"coding\"]\n",
    "n = 2"
   ]
  },
  {
   "cell_type": "code",
   "execution_count": 6,
   "id": "collaborative-sucking",
   "metadata": {},
   "outputs": [
    {
     "name": "stdout",
     "output_type": "stream",
     "text": [
      "Counter({'i': 2, 'love': 2, 'leetcode': 1, 'coding': 1})\n"
     ]
    }
   ],
   "source": [
    "import collections\n",
    "hash = collections.Counter(InputWords)\n",
    "print(hash)"
   ]
  },
  {
   "cell_type": "markdown",
   "id": "altered-consultancy",
   "metadata": {},
   "source": [
    "The key here is to pass in two values, if there are two words that appeared for the same number of times in the input list, then sort them alphabetically"
   ]
  },
  {
   "cell_type": "code",
   "execution_count": 8,
   "id": "connected-excuse",
   "metadata": {},
   "outputs": [],
   "source": [
    "res = sorted(hash, key=lambda word:(-hash[word], word))"
   ]
  },
  {
   "cell_type": "code",
   "execution_count": 12,
   "id": "worst-format",
   "metadata": {},
   "outputs": [
    {
     "name": "stdout",
     "output_type": "stream",
     "text": [
      "['i', 'love', 'coding', 'leetcode']\n"
     ]
    }
   ],
   "source": [
    "print(res)"
   ]
  },
  {
   "cell_type": "code",
   "execution_count": 13,
   "id": "processed-remove",
   "metadata": {},
   "outputs": [
    {
     "name": "stdout",
     "output_type": "stream",
     "text": [
      "['i', 'love']\n"
     ]
    }
   ],
   "source": [
    "out = res[:n]\n",
    "print(out)"
   ]
  }
 ],
 "metadata": {
  "kernelspec": {
   "display_name": "Python 3",
   "language": "python",
   "name": "python3"
  },
  "language_info": {
   "codemirror_mode": {
    "name": "ipython",
    "version": 3
   },
   "file_extension": ".py",
   "mimetype": "text/x-python",
   "name": "python",
   "nbconvert_exporter": "python",
   "pygments_lexer": "ipython3",
   "version": "3.7.9"
  }
 },
 "nbformat": 4,
 "nbformat_minor": 5
}
