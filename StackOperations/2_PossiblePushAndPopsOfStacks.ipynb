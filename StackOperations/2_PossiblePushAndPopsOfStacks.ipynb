{
 "cells": [
  {
   "cell_type": "markdown",
   "id": "greatest-tooth",
   "metadata": {},
   "source": [
    "# Possible Push and Pops for stacks\n",
    "View Problem here: https://leetcode-cn.com/problems/zhan-de-ya-ru-dan-chu-xu-lie-lcof/\n",
    "\n",
    "Try to think how human brain would solve the problem. We would compare elements in pushed and poped to determine if the particular operation is push or pop."
   ]
  },
  {
   "cell_type": "code",
   "execution_count": 3,
   "id": "pending-category",
   "metadata": {},
   "outputs": [],
   "source": [
    "def validateStackSequences(pushed, popped):\n",
    "        stack = []\n",
    "        i = 0\n",
    "        for num in pushed:\n",
    "            stack.append(num)\n",
    "            while stack and stack[-1] == popped[i]:\n",
    "                stack.pop()\n",
    "                i += 1\n",
    "        if not stack:\n",
    "            return True\n",
    "        else:\n",
    "            return False"
   ]
  },
  {
   "cell_type": "code",
   "execution_count": 5,
   "id": "bored-illustration",
   "metadata": {},
   "outputs": [
    {
     "data": {
      "text/plain": [
       "True"
      ]
     },
     "execution_count": 5,
     "metadata": {},
     "output_type": "execute_result"
    }
   ],
   "source": [
    "pushed,popped = [1,2,3,4,5],[4,5,3,2,1]\n",
    "validateStackSequences(pushed, popped)"
   ]
  }
 ],
 "metadata": {
  "kernelspec": {
   "display_name": "Python 3",
   "language": "python",
   "name": "python3"
  },
  "language_info": {
   "codemirror_mode": {
    "name": "ipython",
    "version": 3
   },
   "file_extension": ".py",
   "mimetype": "text/x-python",
   "name": "python",
   "nbconvert_exporter": "python",
   "pygments_lexer": "ipython3",
   "version": "3.7.9"
  }
 },
 "nbformat": 4,
 "nbformat_minor": 5
}
