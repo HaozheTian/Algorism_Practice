{
 "cells": [
  {
   "cell_type": "markdown",
   "id": "registered-cincinnati",
   "metadata": {},
   "source": [
    "# Stack with the function of finding minimum\n",
    "View Probelm here: https://leetcode-cn.com/problems/bao-han-minhan-shu-de-zhan-lcof/\n",
    "\n",
    "The challenge is to find the minimum. Which can be done by constructing a assistive stack. \n",
    "\n",
    "**Notice that the assistive stack should be changed after pop function is executed**. For detail, refer to:\n",
    "\n",
    "```Python\n",
    "def pop(self) -> None:\n",
    "        temp = self.stack.pop(-1)\n",
    "        if self.assist_min[-1]==temp:\n",
    "            self.assist_min.pop(-1)\n",
    "```"
   ]
  },
  {
   "cell_type": "code",
   "execution_count": 6,
   "id": "sublime-finder",
   "metadata": {},
   "outputs": [],
   "source": [
    "class MinStack:\n",
    "\n",
    "    def __init__(self):\n",
    "        \"\"\"\n",
    "        initialize your data structure here.\n",
    "        \"\"\"\n",
    "        self.stack = []\n",
    "        self.assist_min = []\n",
    "\n",
    "\n",
    "    def push(self, x: int) -> None:\n",
    "        if not self.assist_min:\n",
    "            self.assist_min.append(x)\n",
    "        elif x <= self.assist_min[-1]:\n",
    "            self.assist_min.append(x)\n",
    "        self.stack.append(x)\n",
    "\n",
    "\n",
    "    def pop(self) -> None:\n",
    "        temp = self.stack.pop(-1)\n",
    "        if self.assist_min[-1]==temp:\n",
    "            self.assist_min.pop(-1)\n",
    "\n",
    "\n",
    "    def top(self) -> int:\n",
    "        return self.stack[-1]\n",
    "\n",
    "\n",
    "    def min(self) -> int:\n",
    "        return self.assist_min[-1]"
   ]
  },
  {
   "cell_type": "code",
   "execution_count": 7,
   "id": "numerical-tennessee",
   "metadata": {},
   "outputs": [],
   "source": [
    "minStack = MinStack()\n",
    "minStack.push(-2)\n",
    "minStack.push(0)\n",
    "minStack.push(-3)"
   ]
  },
  {
   "cell_type": "code",
   "execution_count": 8,
   "id": "complimentary-violin",
   "metadata": {},
   "outputs": [
    {
     "data": {
      "text/plain": [
       "-3"
      ]
     },
     "execution_count": 8,
     "metadata": {},
     "output_type": "execute_result"
    }
   ],
   "source": [
    "minStack.min()"
   ]
  },
  {
   "cell_type": "code",
   "execution_count": 9,
   "id": "generous-member",
   "metadata": {},
   "outputs": [],
   "source": [
    "minStack.pop()"
   ]
  },
  {
   "cell_type": "code",
   "execution_count": 10,
   "id": "taken-constraint",
   "metadata": {},
   "outputs": [
    {
     "data": {
      "text/plain": [
       "0"
      ]
     },
     "execution_count": 10,
     "metadata": {},
     "output_type": "execute_result"
    }
   ],
   "source": [
    "minStack.top()"
   ]
  },
  {
   "cell_type": "code",
   "execution_count": 11,
   "id": "weighted-penny",
   "metadata": {},
   "outputs": [
    {
     "data": {
      "text/plain": [
       "-2"
      ]
     },
     "execution_count": 11,
     "metadata": {},
     "output_type": "execute_result"
    }
   ],
   "source": [
    "minStack.min()"
   ]
  }
 ],
 "metadata": {
  "kernelspec": {
   "display_name": "Python 3",
   "language": "python",
   "name": "python3"
  },
  "language_info": {
   "codemirror_mode": {
    "name": "ipython",
    "version": 3
   },
   "file_extension": ".py",
   "mimetype": "text/x-python",
   "name": "python",
   "nbconvert_exporter": "python",
   "pygments_lexer": "ipython3",
   "version": "3.7.9"
  }
 },
 "nbformat": 4,
 "nbformat_minor": 5
}
