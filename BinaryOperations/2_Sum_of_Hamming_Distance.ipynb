{
 "cells": [
  {
   "cell_type": "markdown",
   "id": "worth-baptist",
   "metadata": {},
   "source": [
    "# Sum of Hamming Distance\n",
    "view problem [here](https://leetcode-cn.com/problems/total-hamming-distance/)"
   ]
  },
  {
   "cell_type": "code",
   "execution_count": 1,
   "id": "infinite-transsexual",
   "metadata": {},
   "outputs": [],
   "source": [
    "def sumHamming (nums):\n",
    "    n = len(nums)\n",
    "    ans = 0\n",
    "    for i in range(n):\n",
    "        c = 0\n",
    "        for num in nums:\n",
    "            c += (num>>i)&1\n",
    "        ans += c * (n-c)\n",
    "    return ans"
   ]
  },
  {
   "cell_type": "code",
   "execution_count": 2,
   "id": "normal-contact",
   "metadata": {},
   "outputs": [
    {
     "name": "stdout",
     "output_type": "stream",
     "text": [
      "0b100 0b1110 1\n"
     ]
    }
   ],
   "source": [
    "print(bin(4),bin(14),sumHamming([4,14]))"
   ]
  },
  {
   "cell_type": "markdown",
   "id": "afraid-myanmar",
   "metadata": {},
   "source": [
    "The take-away here is to use `&` and `>>` to retrieve single digit in a binary number"
   ]
  },
  {
   "cell_type": "code",
   "execution_count": 3,
   "id": "seven-brand",
   "metadata": {},
   "outputs": [
    {
     "name": "stdout",
     "output_type": "stream",
     "text": [
      "The binary of 28 is 11100\n",
      "The 5th bi-digit is 0\n",
      "The 4th bi-digit is 0\n",
      "The 3th bi-digit is 1\n",
      "The 2th bi-digit is 1\n",
      "The 1th bi-digit is 1\n"
     ]
    }
   ],
   "source": [
    "a = 28\n",
    "print('The binary of {} is {}'.format(a,bin(a)[2:]))\n",
    "n = len(bin(a)[2:])\n",
    "for i in range(n):\n",
    "    dig = n - i\n",
    "    out = (a >> i) & 1\n",
    "    print('The {}th bi-digit is {}'.format(dig, out))\n"
   ]
  }
 ],
 "metadata": {
  "kernelspec": {
   "display_name": "Python 3",
   "language": "python",
   "name": "python3"
  },
  "language_info": {
   "codemirror_mode": {
    "name": "ipython",
    "version": 3
   },
   "file_extension": ".py",
   "mimetype": "text/x-python",
   "name": "python",
   "nbconvert_exporter": "python",
   "pygments_lexer": "ipython3",
   "version": "3.7.9"
  }
 },
 "nbformat": 4,
 "nbformat_minor": 5
}
